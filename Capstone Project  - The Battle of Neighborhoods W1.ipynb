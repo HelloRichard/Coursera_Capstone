{
    "cells": [
        {
            "cell_type": "markdown",
            "metadata": {
                "collapsed": true
            },
            "source": "# Capstone Project - The Battle of Neighborhoods"
        },
        {
            "cell_type": "markdown",
            "metadata": {},
            "source": "## Introduction/Business Problem\nBakeries in large cities are huge and have high profit margins due to cheap ingredients. My client wants to open a bakery in either New York City or Toronto. What I know about the business is that it specializes in cakes and cookies for high end clients. The store will be family owned and they want to know which area will potentially have more success. New York City is known to have one of the best foods in US and Toronto is known to have one of the best foods in Canada. They believe their products will blow other competitors out of the waters, but of course everyone has different taste buds. And even if their food is amazing, their location might cause problems and their business might suffer. So, as a data scientist it will be my goal to migrate any type of risk that might financially ruin the new business due to poor location.\n\nMy goal would be to find an area that has a lot of high-end business to blend in with. I also want to make sure there is a lot of competition and have good tourisms for people to send their money on fancy food.\n"
        },
        {
            "cell_type": "markdown",
            "metadata": {},
            "source": "## Data Background\nTo start, I want to analyze all types of businesses in the area. The data I will be observing is the locations of both New York City and Toronto and will be comparing the location through clustering. A pro and cons list will be ideal to create when comparing the two cities as well as the similarities and dissimilarities. \n\nAs from the previous projects, understanding what vendors are located near each coordinate will be helpful. Another good addition to the data set will be income for each location because the bakery will be targeting high end clients that is willing to spend for their luxurious experience, especially since these two cities are known for their tourism and high living of cost.\n\nThe clustering methodology I will be using is K-means algorithm as it will help analyze unbias locations because it uses centroids that are random. The K-means algorithm can converge to different final clustering results, depending on initial choice of representatives.\n\n"
        },
        {
            "cell_type": "code",
            "execution_count": null,
            "metadata": {},
            "outputs": [],
            "source": ""
        }
    ],
    "metadata": {
        "kernelspec": {
            "display_name": "Python 3.7",
            "language": "python",
            "name": "python3"
        },
        "language_info": {
            "codemirror_mode": {
                "name": "ipython",
                "version": 3
            },
            "file_extension": ".py",
            "mimetype": "text/x-python",
            "name": "python",
            "nbconvert_exporter": "python",
            "pygments_lexer": "ipython3",
            "version": "3.7.10"
        }
    },
    "nbformat": 4,
    "nbformat_minor": 1
}